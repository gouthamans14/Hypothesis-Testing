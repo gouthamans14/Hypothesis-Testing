{
 "cells": [
  {
   "cell_type": "markdown",
   "id": "73cd2e7c",
   "metadata": {},
   "source": [
    "# HYPOTHESIS TESTING CASE STUDY"
   ]
  },
  {
   "cell_type": "code",
   "execution_count": 246,
   "id": "359e7ef5",
   "metadata": {},
   "outputs": [],
   "source": [
    "import pandas as pd\n",
    "import numpy as np\n",
    "\n",
    "import matplotlib.pyplot as plt\n",
    "%matplotlib inline\n",
    "import seaborn as sns\n",
    "\n",
    "import scipy.stats as stats"
   ]
  },
  {
   "cell_type": "markdown",
   "id": "f3a7619d",
   "metadata": {},
   "source": [
    "### BUSINESS PROBLEM-1"
   ]
  },
  {
   "cell_type": "code",
   "execution_count": 2,
   "id": "bde2bc3c",
   "metadata": {},
   "outputs": [],
   "source": [
    "ld= pd.read_csv(\"C:\\\\Users\\gouthaman\\Desktop\\FullStack_AI\\Data Science Using Python\\Project - Datascience\\Basic Statistics - Hypothesis Testing\\LoansData.csv\")"
   ]
  },
  {
   "cell_type": "code",
   "execution_count": 4,
   "id": "a6512cac",
   "metadata": {},
   "outputs": [
    {
     "data": {
      "text/plain": [
       "Amount.Requested                   1\n",
       "Amount.Funded.By.Investors         1\n",
       "Interest.Rate                      2\n",
       "Loan.Length                        0\n",
       "Loan.Purpose                       0\n",
       "Debt.To.Income.Ratio               1\n",
       "State                              0\n",
       "Home.Ownership                     1\n",
       "Monthly.Income                     1\n",
       "FICO.Range                         2\n",
       "Open.CREDIT.Lines                  3\n",
       "Revolving.CREDIT.Balance           3\n",
       "Inquiries.in.the.Last.6.Months     3\n",
       "Employment.Length                 77\n",
       "dtype: int64"
      ]
     },
     "execution_count": 4,
     "metadata": {},
     "output_type": "execute_result"
    }
   ],
   "source": [
    "ld.isna().sum()\n"
   ]
  },
  {
   "cell_type": "code",
   "execution_count": 5,
   "id": "919e0ce7",
   "metadata": {},
   "outputs": [],
   "source": [
    "ld.drop(columns=\"Employment.Length\",inplace=True)\n",
    "ld.dropna(inplace=True)"
   ]
  },
  {
   "cell_type": "code",
   "execution_count": 7,
   "id": "64d720f1",
   "metadata": {},
   "outputs": [
    {
     "name": "stdout",
     "output_type": "stream",
     "text": [
      "<class 'pandas.core.frame.DataFrame'>\n",
      "Int64Index: 2489 entries, 0 to 2499\n",
      "Data columns (total 13 columns):\n",
      " #   Column                          Non-Null Count  Dtype  \n",
      "---  ------                          --------------  -----  \n",
      " 0   Amount.Requested                2489 non-null   float64\n",
      " 1   Amount.Funded.By.Investors      2489 non-null   float64\n",
      " 2   Interest.Rate                   2489 non-null   object \n",
      " 3   Loan.Length                     2489 non-null   object \n",
      " 4   Loan.Purpose                    2489 non-null   object \n",
      " 5   Debt.To.Income.Ratio            2489 non-null   object \n",
      " 6   State                           2489 non-null   object \n",
      " 7   Home.Ownership                  2489 non-null   object \n",
      " 8   Monthly.Income                  2489 non-null   float64\n",
      " 9   FICO.Range                      2489 non-null   object \n",
      " 10  Open.CREDIT.Lines               2489 non-null   float64\n",
      " 11  Revolving.CREDIT.Balance        2489 non-null   float64\n",
      " 12  Inquiries.in.the.Last.6.Months  2489 non-null   float64\n",
      "dtypes: float64(6), object(7)\n",
      "memory usage: 272.2+ KB\n"
     ]
    }
   ],
   "source": [
    "ld.info()"
   ]
  },
  {
   "cell_type": "code",
   "execution_count": 9,
   "id": "a25527aa",
   "metadata": {},
   "outputs": [],
   "source": [
    "ld[\"Interest.Rate\"] = ld[\"Interest.Rate\"].astype(str).apply(lambda x: float(x.replace(\"%\",\"\")))\n"
   ]
  },
  {
   "cell_type": "markdown",
   "id": "9977b4fc",
   "metadata": {},
   "source": [
    "### a. Intrest rate is varied for different loan amounts (Less intrest charged for high loan amounts)"
   ]
  },
  {
   "cell_type": "markdown",
   "id": "bc7a9e03",
   "metadata": {},
   "source": [
    "#### Hyothesis Testing    \n",
    "    h0 : interest rate is same for all loan amount \n",
    "    ha : No relationship between interest rate and loan amount\n",
    "\n",
    "    Confidence Intreval : 95%\n",
    "    pvalue : 0.05\n"
   ]
  },
  {
   "cell_type": "code",
   "execution_count": 306,
   "id": "60fbad09",
   "metadata": {},
   "outputs": [
    {
     "data": {
      "text/plain": [
       "Ttest_indResult(statistic=79.22344297663612, pvalue=0.0)"
      ]
     },
     "execution_count": 306,
     "metadata": {},
     "output_type": "execute_result"
    }
   ],
   "source": [
    "stats.ttest_ind(ld[\"Amount.Requested\"],ld[\"Interest.Rate\"])"
   ]
  },
  {
   "cell_type": "markdown",
   "id": "2f176815",
   "metadata": {},
   "source": [
    "#### BC:\n",
    "    Since P value is low we reject null hypothesis \n",
    "    Interest rate is not varied according to loan amount"
   ]
  },
  {
   "cell_type": "markdown",
   "id": "299faadb",
   "metadata": {},
   "source": [
    "###  b. Loan length is directly effecting intrest rate."
   ]
  },
  {
   "cell_type": "code",
   "execution_count": 107,
   "id": "74a8017c",
   "metadata": {},
   "outputs": [],
   "source": [
    "ld[\"Loan.Length\"] = ld[\"Loan.Length\"].astype(str).apply(lambda x: int(x.replace(\" months\",\"\")))"
   ]
  },
  {
   "cell_type": "code",
   "execution_count": 307,
   "id": "59fca79a",
   "metadata": {},
   "outputs": [
    {
     "data": {
      "text/plain": [
       "36    1941\n",
       "60     548\n",
       "Name: Loan.Length, dtype: int64"
      ]
     },
     "execution_count": 307,
     "metadata": {},
     "output_type": "execute_result"
    }
   ],
   "source": [
    "ld[\"Loan.Length\"].value_counts()"
   ]
  },
  {
   "cell_type": "code",
   "execution_count": 21,
   "id": "662cc254",
   "metadata": {},
   "outputs": [
    {
     "data": {
      "text/plain": [
       "0        8.90\n",
       "1       12.12\n",
       "2       21.98\n",
       "3        9.99\n",
       "4       11.71\n",
       "        ...  \n",
       "2495    16.77\n",
       "2496    14.09\n",
       "2497    13.99\n",
       "2498    12.42\n",
       "2499    13.79\n",
       "Name: Interest.Rate, Length: 2489, dtype: float64"
      ]
     },
     "execution_count": 21,
     "metadata": {},
     "output_type": "execute_result"
    }
   ],
   "source": [
    "ld[\"Interest.Rate\"]"
   ]
  },
  {
   "cell_type": "markdown",
   "id": "f7a017ef",
   "metadata": {},
   "source": [
    "#### Hypothesis Testing\n",
    "\n",
    "    h0: Interest rate is affected by loan length(related)\n",
    "    h1: Interest rate is not affected by loan length\n",
    "\n",
    "    CI : 95%\n",
    "    p value : 0.05\n"
   ]
  },
  {
   "cell_type": "code",
   "execution_count": 391,
   "id": "f890d9af",
   "metadata": {},
   "outputs": [],
   "source": [
    "loanlength36 = ld.loc[ld[\"Loan.Length\"]==36,[\"Interest.Rate\"]]\n",
    "loanlength60 = ld.loc[ld[\"Loan.Length\"]==60,[\"Interest.Rate\"]]\n"
   ]
  },
  {
   "cell_type": "code",
   "execution_count": 371,
   "id": "827dcfcd",
   "metadata": {},
   "outputs": [
    {
     "data": {
      "text/plain": [
       "F_onewayResult(statistic=array([546.60738917]), pvalue=array([1.91323444e-109]))"
      ]
     },
     "execution_count": 371,
     "metadata": {},
     "output_type": "execute_result"
    }
   ],
   "source": [
    "#One continous and one categorical so Annova Test\n",
    "\n",
    "stats.f_oneway(loanlength36,loanlength60)\n",
    "#stats.ttest_ind(loanlength36,loanlength60,equal_var=False)"
   ]
  },
  {
   "cell_type": "markdown",
   "id": "d35113d9",
   "metadata": {},
   "source": [
    "### BC:\n",
    "    Since P value is low we reject null hypothesis \n",
    "    Loan length does not affect interest rate"
   ]
  },
  {
   "cell_type": "markdown",
   "id": "2d3ddc74",
   "metadata": {},
   "source": [
    "### c. Inrest rate varies for different purpose of loans"
   ]
  },
  {
   "cell_type": "code",
   "execution_count": 113,
   "id": "12dad852",
   "metadata": {},
   "outputs": [
    {
     "data": {
      "text/plain": [
       "Index(['debt_consolidation', 'credit_card', 'other', 'home_improvement',\n",
       "       'major_purchase', 'small_business', 'car', 'wedding', 'medical',\n",
       "       'moving', 'vacation', 'house', 'educational', 'renewable_energy'],\n",
       "      dtype='object')"
      ]
     },
     "execution_count": 113,
     "metadata": {},
     "output_type": "execute_result"
    }
   ],
   "source": [
    "ld[\"Loan.Purpose\"].value_counts().index"
   ]
  },
  {
   "cell_type": "code",
   "execution_count": 114,
   "id": "d08ec54d",
   "metadata": {},
   "outputs": [],
   "source": [
    "#Purpose- Categorical\n",
    "#Interest Rate - Continuous \n",
    "\n",
    "ld[\"Loan.Purpose\"].value_counts() #cardinality is more than 2\n",
    "ind = list(ld[\"Loan.Purpose\"].value_counts().index)\n",
    "#Using ANNOVA Test"
   ]
  },
  {
   "cell_type": "code",
   "execution_count": 115,
   "id": "5619c0a1",
   "metadata": {},
   "outputs": [
    {
     "name": "stdout",
     "output_type": "stream",
     "text": [
      "<class 'pandas.core.frame.DataFrame'>\n",
      "Int64Index: 2489 entries, 0 to 2499\n",
      "Data columns (total 13 columns):\n",
      " #   Column                          Non-Null Count  Dtype  \n",
      "---  ------                          --------------  -----  \n",
      " 0   Amount.Requested                2489 non-null   float64\n",
      " 1   Amount.Funded.By.Investors      2489 non-null   float64\n",
      " 2   Interest.Rate                   2489 non-null   float64\n",
      " 3   Loan.Length                     2489 non-null   int64  \n",
      " 4   Loan.Purpose                    2489 non-null   object \n",
      " 5   Debt.To.Income.Ratio            2489 non-null   object \n",
      " 6   State                           2489 non-null   object \n",
      " 7   Home.Ownership                  2489 non-null   object \n",
      " 8   Monthly.Income                  2489 non-null   float64\n",
      " 9   FICO.Range                      2489 non-null   object \n",
      " 10  Open.CREDIT.Lines               2489 non-null   float64\n",
      " 11  Revolving.CREDIT.Balance        2489 non-null   float64\n",
      " 12  Inquiries.in.the.Last.6.Months  2489 non-null   float64\n",
      "dtypes: float64(7), int64(1), object(5)\n",
      "memory usage: 272.2+ KB\n"
     ]
    }
   ],
   "source": [
    "ld.info()"
   ]
  },
  {
   "cell_type": "markdown",
   "id": "9ee78cf5",
   "metadata": {},
   "source": [
    "##### Hypothesis Testing\n",
    "    H0 - means are from same population(Interest rate are same for different purpose)\n",
    "    Ha - means are from different population( Interst rate varies for different purspose)\n",
    "\n",
    "    CI - 95%\n",
    "    p - 0.05"
   ]
  },
  {
   "cell_type": "code",
   "execution_count": 116,
   "id": "73fd25cf",
   "metadata": {},
   "outputs": [],
   "source": [
    "a=dict()\n",
    "for i in ind:\n",
    "    a[i] = ld.loc[ld[\"Loan.Purpose\"]==i,\"Interest.Rate\"]"
   ]
  },
  {
   "cell_type": "code",
   "execution_count": 117,
   "id": "3d5f1598",
   "metadata": {},
   "outputs": [
    {
     "data": {
      "text/plain": [
       "F_onewayResult(statistic=7.487175499510107, pvalue=1.1346364693350775e-14)"
      ]
     },
     "execution_count": 117,
     "metadata": {},
     "output_type": "execute_result"
    }
   ],
   "source": [
    "stats.f_oneway( a[\"debt_consolidation\"],a[\"credit_card\"],a[\"other\"],a[\"home_improvement\"],a[\"major_purchase\"],\n",
    "               a[\"small_business\"],a[\"car\"],a['wedding'], a['medical'],\n",
    "       a['moving'], a['vacation'], a['house'], a['educational'], a['renewable_energy'],)"
   ]
  },
  {
   "cell_type": "markdown",
   "id": "857d3667",
   "metadata": {},
   "source": [
    "##### pvalue <0.05 We reject null hypothesis\n",
    "\n",
    "#### Business Conclusion : Intrest rate varies for different purpose "
   ]
  },
  {
   "cell_type": "markdown",
   "id": "68e9a86e",
   "metadata": {},
   "source": [
    "### d. There is relationship between FICO scores and Home Ownership. It means that, People with owning home will have high FICO scores.\n"
   ]
  },
  {
   "cell_type": "code",
   "execution_count": 317,
   "id": "cfeb8439",
   "metadata": {},
   "outputs": [
    {
     "data": {
      "text/plain": [
       "MORTGAGE    1144\n",
       "RENT        1140\n",
       "OWN          200\n",
       "OTHER          5\n",
       "Name: Home.Ownership, dtype: int64"
      ]
     },
     "execution_count": 317,
     "metadata": {},
     "output_type": "execute_result"
    }
   ],
   "source": [
    "ld[\"Home.Ownership\"].value_counts()"
   ]
  },
  {
   "cell_type": "code",
   "execution_count": 334,
   "id": "825ba32e",
   "metadata": {},
   "outputs": [],
   "source": [
    "#TAKING MEAN OF THE FICO RANGE AS FICO SCORES\n",
    "ld[\"Fico_Score\"]=ld[\"FICO.Range\"].apply(lambda X: np.mean([int(X.replace(\"-\",\"\")[:3]),int(X.replace(\"-\",\"\")[4:])]))"
   ]
  },
  {
   "cell_type": "code",
   "execution_count": 341,
   "id": "1a3120a8",
   "metadata": {},
   "outputs": [
    {
     "data": {
      "text/plain": [
       "dict_keys(['MORTGAGE', 'RENT', 'OWN', 'OTHER'])"
      ]
     },
     "execution_count": 341,
     "metadata": {},
     "output_type": "execute_result"
    }
   ],
   "source": [
    "mapp = dict()\n",
    "for i in ld[\"Home.Ownership\"]:\n",
    "    mapp[i]=ld.loc[ld[\"Home.Ownership\"]==i,[\"Fico_Score\"]]"
   ]
  },
  {
   "cell_type": "markdown",
   "id": "ddc1c6be",
   "metadata": {},
   "source": [
    "#### HYPOTHESIS TESTING\n",
    "\n",
    "    H0:Fico scores and house ownership are related\n",
    "    h1: No relationship between fico scores and house ownership\n",
    "    ci:95% p-value=0.05"
   ]
  },
  {
   "cell_type": "code",
   "execution_count": 342,
   "id": "c64066b5",
   "metadata": {},
   "outputs": [
    {
     "data": {
      "text/plain": [
       "F_onewayResult(statistic=array([10.79035281]), pvalue=array([4.82255139e-07]))"
      ]
     },
     "execution_count": 342,
     "metadata": {},
     "output_type": "execute_result"
    }
   ],
   "source": [
    "stats.f_oneway(mapp[\"MORTGAGE\"],mapp[\"OWN\"],mapp[\"OTHER\"],mapp[\"RENT\"])"
   ]
  },
  {
   "cell_type": "markdown",
   "id": "b8f15ff1",
   "metadata": {},
   "source": [
    "we reject null hypothesis\n",
    "#### BC: No relationship between house ownership and Fico scores"
   ]
  },
  {
   "cell_type": "code",
   "execution_count": 320,
   "id": "ffd66eee",
   "metadata": {},
   "outputs": [],
   "source": [
    "#obs_freq=pd.crosstab(ld[\"Home.Ownership\"],ld[\"FICO.Range\"])\n",
    "#stats.chisquare(obs_freq)\n"
   ]
  },
  {
   "cell_type": "markdown",
   "id": "8c9a6d47",
   "metadata": {},
   "source": [
    "# BUSINESS PROBLEM - 2"
   ]
  },
  {
   "cell_type": "markdown",
   "id": "93469c06",
   "metadata": {},
   "source": [
    "### We would like to assess if there is any difference in the average price quotes provided by Mary and Barry.\n"
   ]
  },
  {
   "cell_type": "code",
   "execution_count": 290,
   "id": "3a66b46e",
   "metadata": {},
   "outputs": [],
   "source": [
    "price =pd.read_csv(\"C:\\\\Users\\gouthaman\\Desktop\\FullStack_AI\\Data Science Using Python\\Project - Datascience\\Basic Statistics - Hypothesis Testing\\Price_Quotes.csv\")"
   ]
  },
  {
   "cell_type": "code",
   "execution_count": 291,
   "id": "a8c75763",
   "metadata": {},
   "outputs": [
    {
     "name": "stdout",
     "output_type": "stream",
     "text": [
      "<class 'pandas.core.frame.DataFrame'>\n",
      "RangeIndex: 12 entries, 0 to 11\n",
      "Data columns (total 3 columns):\n",
      " #   Column        Non-Null Count  Dtype\n",
      "---  ------        --------------  -----\n",
      " 0   Order_Number  12 non-null     int64\n",
      " 1   Barry_Price   12 non-null     int64\n",
      " 2   Mary_Price    12 non-null     int64\n",
      "dtypes: int64(3)\n",
      "memory usage: 416.0 bytes\n"
     ]
    }
   ],
   "source": [
    "price.info()"
   ]
  },
  {
   "cell_type": "markdown",
   "id": "0dd0d28d",
   "metadata": {},
   "source": [
    "#### Hypothesis Testing - T test\n",
    "    h0: the price will be equal\n",
    "    ha: the price will not be equal\n",
    "    \n",
    "    CI:95% pvalue=0.05\n",
    "    \n"
   ]
  },
  {
   "cell_type": "code",
   "execution_count": 300,
   "id": "badad7f1",
   "metadata": {},
   "outputs": [
    {
     "data": {
      "text/plain": [
       "Ttest_relResult(statistic=2.521376510892349, pvalue=0.02840588045242053)"
      ]
     },
     "execution_count": 300,
     "metadata": {},
     "output_type": "execute_result"
    }
   ],
   "source": [
    "stats.ttest_rel( price.Barry_Price, price.Mary_Price )"
   ]
  },
  {
   "cell_type": "markdown",
   "id": "c44e2a92",
   "metadata": {},
   "source": [
    "###### We reject null hypothesis\n",
    "###### BC: Price will not be equal. with given data there is difference in price quoted by mary and barry"
   ]
  },
  {
   "cell_type": "markdown",
   "id": "e073f12e",
   "metadata": {},
   "source": [
    "# BUSINESS PROBLEM-3:"
   ]
  },
  {
   "cell_type": "code",
   "execution_count": 359,
   "id": "92324710",
   "metadata": {},
   "outputs": [],
   "source": [
    "tf = pd.read_csv(\"C:\\\\Users\\gouthaman\\Desktop\\FullStack_AI\\Data Science Using Python\\Project - Datascience\\Basic Statistics - Hypothesis Testing\\Treatment_Facility.csv\")"
   ]
  },
  {
   "cell_type": "code",
   "execution_count": 360,
   "id": "67866af9",
   "metadata": {},
   "outputs": [
    {
     "data": {
      "text/html": [
       "<div>\n",
       "<style scoped>\n",
       "    .dataframe tbody tr th:only-of-type {\n",
       "        vertical-align: middle;\n",
       "    }\n",
       "\n",
       "    .dataframe tbody tr th {\n",
       "        vertical-align: top;\n",
       "    }\n",
       "\n",
       "    .dataframe thead th {\n",
       "        text-align: right;\n",
       "    }\n",
       "</style>\n",
       "<table border=\"1\" class=\"dataframe\">\n",
       "  <thead>\n",
       "    <tr style=\"text-align: right;\">\n",
       "      <th></th>\n",
       "      <th>Month</th>\n",
       "      <th>Reengineer</th>\n",
       "      <th>Employee_Turnover</th>\n",
       "      <th>VAR4</th>\n",
       "      <th>VAR5</th>\n",
       "    </tr>\n",
       "  </thead>\n",
       "  <tbody>\n",
       "    <tr>\n",
       "      <th>0</th>\n",
       "      <td>1</td>\n",
       "      <td>Prior</td>\n",
       "      <td>0.0000</td>\n",
       "      <td>24.390244</td>\n",
       "      <td>42.682927</td>\n",
       "    </tr>\n",
       "    <tr>\n",
       "      <th>1</th>\n",
       "      <td>2</td>\n",
       "      <td>Prior</td>\n",
       "      <td>6.0606</td>\n",
       "      <td>19.354839</td>\n",
       "      <td>25.806452</td>\n",
       "    </tr>\n",
       "    <tr>\n",
       "      <th>2</th>\n",
       "      <td>3</td>\n",
       "      <td>Prior</td>\n",
       "      <td>12.1212</td>\n",
       "      <td>35.087719</td>\n",
       "      <td>146.198830</td>\n",
       "    </tr>\n",
       "    <tr>\n",
       "      <th>3</th>\n",
       "      <td>4</td>\n",
       "      <td>Prior</td>\n",
       "      <td>3.3333</td>\n",
       "      <td>18.404908</td>\n",
       "      <td>110.429448</td>\n",
       "    </tr>\n",
       "    <tr>\n",
       "      <th>4</th>\n",
       "      <td>5</td>\n",
       "      <td>Prior</td>\n",
       "      <td>12.9032</td>\n",
       "      <td>17.964072</td>\n",
       "      <td>23.952096</td>\n",
       "    </tr>\n",
       "  </tbody>\n",
       "</table>\n",
       "</div>"
      ],
      "text/plain": [
       "   Month Reengineer  Employee_Turnover       VAR4        VAR5\n",
       "0      1      Prior             0.0000  24.390244   42.682927\n",
       "1      2      Prior             6.0606  19.354839   25.806452\n",
       "2      3      Prior            12.1212  35.087719  146.198830\n",
       "3      4      Prior             3.3333  18.404908  110.429448\n",
       "4      5      Prior            12.9032  17.964072   23.952096"
      ]
     },
     "execution_count": 360,
     "metadata": {},
     "output_type": "execute_result"
    }
   ],
   "source": [
    "tf.head()"
   ]
  },
  {
   "cell_type": "code",
   "execution_count": 361,
   "id": "1e8693c2",
   "metadata": {},
   "outputs": [],
   "source": [
    "tf.rename(columns={\"VAR4\":\"TRFF(%)\", \"VAR5\":\"CI(%)\"},inplace=True)\n"
   ]
  },
  {
   "cell_type": "code",
   "execution_count": 362,
   "id": "6314a227",
   "metadata": {},
   "outputs": [
    {
     "name": "stdout",
     "output_type": "stream",
     "text": [
      "<class 'pandas.core.frame.DataFrame'>\n",
      "RangeIndex: 20 entries, 0 to 19\n",
      "Data columns (total 5 columns):\n",
      " #   Column             Non-Null Count  Dtype  \n",
      "---  ------             --------------  -----  \n",
      " 0   Month              20 non-null     int64  \n",
      " 1   Reengineer         20 non-null     object \n",
      " 2   Employee_Turnover  20 non-null     float64\n",
      " 3   TRFF(%)            20 non-null     float64\n",
      " 4   CI(%)              20 non-null     float64\n",
      "dtypes: float64(3), int64(1), object(1)\n",
      "memory usage: 928.0+ bytes\n"
     ]
    }
   ],
   "source": [
    "tf.info()"
   ]
  },
  {
   "cell_type": "code",
   "execution_count": 363,
   "id": "423a4de9",
   "metadata": {},
   "outputs": [],
   "source": [
    "#2 sample paired\n",
    "prior= tf.loc[(tf[\"Reengineer\"]==\"Prior\")&(tf.Month.isin([13,12,11,10,9,8,7])),\"CI(%)\"]\n",
    "#prior1 = tf.loc[(tf[\"Reengineer\"]==\"Prior\"),\"CI(%)\"]"
   ]
  },
  {
   "cell_type": "code",
   "execution_count": 364,
   "id": "fad805d4",
   "metadata": {},
   "outputs": [
    {
     "data": {
      "text/plain": [
       "(7,)"
      ]
     },
     "execution_count": 364,
     "metadata": {},
     "output_type": "execute_result"
    }
   ],
   "source": [
    "prior.shape"
   ]
  },
  {
   "cell_type": "code",
   "execution_count": 365,
   "id": "8f0209d8",
   "metadata": {},
   "outputs": [],
   "source": [
    "post=tf.loc[tf[\"Reengineer\"]==\"Post\",\"CI(%)\"]"
   ]
  },
  {
   "cell_type": "code",
   "execution_count": 366,
   "id": "bff2b7ca",
   "metadata": {},
   "outputs": [
    {
     "data": {
      "text/plain": [
       "(7,)"
      ]
     },
     "execution_count": 366,
     "metadata": {},
     "output_type": "execute_result"
    }
   ],
   "source": [
    "post.shape"
   ]
  },
  {
   "cell_type": "code",
   "execution_count": 367,
   "id": "8aba77e7",
   "metadata": {},
   "outputs": [
    {
     "data": {
      "text/plain": [
       "43.487743735"
      ]
     },
     "execution_count": 367,
     "metadata": {},
     "output_type": "execute_result"
    }
   ],
   "source": [
    "prior.mean()"
   ]
  },
  {
   "cell_type": "code",
   "execution_count": 129,
   "id": "799dda93",
   "metadata": {},
   "outputs": [
    {
     "data": {
      "text/plain": [
       "23.34971927988571"
      ]
     },
     "execution_count": 129,
     "metadata": {},
     "output_type": "execute_result"
    }
   ],
   "source": [
    "post.mean()"
   ]
  },
  {
   "cell_type": "markdown",
   "id": "118124f2",
   "metadata": {},
   "source": [
    "### Hypothesis Testing\n",
    "\n",
    "    h0: No changes in the CI(CI_post == CI_prior)\n",
    "    ha: Changes in the CI(CI_POST <> CI_PRIOR)\n",
    "    \n",
    "    CI-95% P VALUE = 0.05\n",
    "    2 tailed test-> p value= 0.025\n",
    "    \n",
    "    \n",
    "    "
   ]
  },
  {
   "cell_type": "code",
   "execution_count": 368,
   "id": "e4bc1c3d",
   "metadata": {},
   "outputs": [
    {
     "data": {
      "text/plain": [
       "Ttest_relResult(statistic=1.1053112945653105, pvalue=0.31136482510821195)"
      ]
     },
     "execution_count": 368,
     "metadata": {},
     "output_type": "execute_result"
    }
   ],
   "source": [
    "stats.ttest_rel(prior,post)"
   ]
  },
  {
   "cell_type": "markdown",
   "id": "99e2a45f",
   "metadata": {},
   "source": [
    "##### Pvalue is high so we fail to reject null hypothesis\n",
    "##### With given data it couldnt be proved that if CI rate has improved"
   ]
  },
  {
   "cell_type": "markdown",
   "id": "0ce1f683",
   "metadata": {},
   "source": [
    "# BUSINESS PROBLEM -4"
   ]
  },
  {
   "cell_type": "code",
   "execution_count": 37,
   "id": "32ef6363",
   "metadata": {},
   "outputs": [],
   "source": [
    "pa =pd.read_csv(\"C:\\\\Users\\gouthaman\\Desktop\\FullStack_AI\\Data Science Using Python\\Project - Datascience\\Basic Statistics - Hypothesis Testing\\Priority_Assessment.csv\")"
   ]
  },
  {
   "cell_type": "code",
   "execution_count": 38,
   "id": "8652f9d5",
   "metadata": {},
   "outputs": [],
   "source": [
    "high = pa.loc[pa.Priority==\"High\",\"Days\"]\n",
    "medium=pa.loc[pa.Priority==\"Medium\",\"Days\"]\n",
    "low=pa.loc[pa.Priority==\"Low\",\"Days\"]"
   ]
  },
  {
   "cell_type": "code",
   "execution_count": 46,
   "id": "5e9ead52",
   "metadata": {},
   "outputs": [
    {
     "data": {
      "text/plain": [
       "High      326\n",
       "Medium    249\n",
       "Low        67\n",
       "Name: Priority, dtype: int64"
      ]
     },
     "execution_count": 46,
     "metadata": {},
     "output_type": "execute_result"
    }
   ],
   "source": [
    "pa.Priority.value_counts()\n"
   ]
  },
  {
   "cell_type": "code",
   "execution_count": 135,
   "id": "e540b136",
   "metadata": {},
   "outputs": [
    {
     "data": {
      "text/plain": [
       "(326,)"
      ]
     },
     "execution_count": 135,
     "metadata": {},
     "output_type": "execute_result"
    }
   ],
   "source": [
    "high.shape"
   ]
  },
  {
   "cell_type": "code",
   "execution_count": 137,
   "id": "993f8d3b",
   "metadata": {},
   "outputs": [
    {
     "data": {
      "text/plain": [
       "(249,)"
      ]
     },
     "execution_count": 137,
     "metadata": {},
     "output_type": "execute_result"
    }
   ],
   "source": [
    "medium.shape"
   ]
  },
  {
   "cell_type": "code",
   "execution_count": 45,
   "id": "2a088f14",
   "metadata": {},
   "outputs": [
    {
     "data": {
      "text/plain": [
       "(67,)"
      ]
     },
     "execution_count": 45,
     "metadata": {},
     "output_type": "execute_result"
    }
   ],
   "source": [
    "low.shape"
   ]
  },
  {
   "cell_type": "code",
   "execution_count": 147,
   "id": "d19979a2",
   "metadata": {},
   "outputs": [
    {
     "data": {
      "text/plain": [
       "60.549686550259636"
      ]
     },
     "execution_count": 147,
     "metadata": {},
     "output_type": "execute_result"
    }
   ],
   "source": [
    "high.std()**2"
   ]
  },
  {
   "cell_type": "code",
   "execution_count": 143,
   "id": "09e85924",
   "metadata": {},
   "outputs": [
    {
     "data": {
      "text/plain": [
       "25.116774193548416"
      ]
     },
     "execution_count": 143,
     "metadata": {},
     "output_type": "execute_result"
    }
   ],
   "source": [
    "medium.std()**2"
   ]
  },
  {
   "cell_type": "code",
   "execution_count": 148,
   "id": "45cb9f74",
   "metadata": {},
   "outputs": [
    {
     "data": {
      "text/plain": [
       "39.30600180913611"
      ]
     },
     "execution_count": 148,
     "metadata": {},
     "output_type": "execute_result"
    }
   ],
   "source": [
    "low.std()**2"
   ]
  },
  {
   "cell_type": "code",
   "execution_count": null,
   "id": "d1738966",
   "metadata": {},
   "outputs": [],
   "source": [
    "#unqueal variance Independent T- test"
   ]
  },
  {
   "cell_type": "markdown",
   "id": "8c897b9b",
   "metadata": {},
   "source": [
    "#### Test if High priority tasks is done  fast\n",
    "    h0: Days taken for completing high task is == Days for Medium \n",
    "    ha: days taken for completing high priority task is not equal to Medium \n",
    "    ci= 95% pvalue=0.05"
   ]
  },
  {
   "cell_type": "code",
   "execution_count": 150,
   "id": "ca2ceec5",
   "metadata": {},
   "outputs": [
    {
     "data": {
      "text/plain": [
       "Ttest_indResult(statistic=0.9780778483608645, pvalue=0.32845956565961953)"
      ]
     },
     "execution_count": 150,
     "metadata": {},
     "output_type": "execute_result"
    }
   ],
   "source": [
    "stats.ttest_ind(high,medium,equal_var=False)"
   ]
  },
  {
   "cell_type": "markdown",
   "id": "daf0293d",
   "metadata": {},
   "source": [
    "We fail to reject Null hypothesis\n",
    "#### BC : High priority task is done in same number of days as medium priority tasks"
   ]
  },
  {
   "cell_type": "markdown",
   "id": "390e1eea",
   "metadata": {},
   "source": [
    "#### Test if Medium priority tasks is done  first compared to Low\n",
    "    h0: Days taken for medium  = Days for Low  \n",
    "    ha: days taken for Medium <>Low \n",
    "    ci= 95% pvalue=0.05"
   ]
  },
  {
   "cell_type": "code",
   "execution_count": 288,
   "id": "85d3a80f",
   "metadata": {},
   "outputs": [
    {
     "data": {
      "text/plain": [
       "Ttest_indResult(statistic=2.0844370107136743, pvalue=0.039955774952838315)"
      ]
     },
     "execution_count": 288,
     "metadata": {},
     "output_type": "execute_result"
    }
   ],
   "source": [
    "stats.ttest_ind(low,medium,equal_var=False)"
   ]
  },
  {
   "cell_type": "markdown",
   "id": "325559ab",
   "metadata": {},
   "source": [
    "    We reject null hypothesis as p value is less than 0.05\n",
    "#### BC: Medium priority tasks is done first before low "
   ]
  },
  {
   "cell_type": "markdown",
   "id": "38ad6b13",
   "metadata": {},
   "source": [
    "### Priority: High = Medium > Low"
   ]
  },
  {
   "cell_type": "markdown",
   "id": "4f5a35e4",
   "metadata": {},
   "source": [
    "# BUSINESS PROBLEM-5\n"
   ]
  },
  {
   "cell_type": "code",
   "execution_count": 156,
   "id": "15496f77",
   "metadata": {},
   "outputs": [],
   "source": [
    "Films= pd.read_csv(\"C:\\\\Users\\gouthaman\\Desktop\\FullStack_AI\\Data Science Using Python\\Project - Datascience\\Basic Statistics - Hypothesis Testing\\Films.csv\")"
   ]
  },
  {
   "cell_type": "code",
   "execution_count": 157,
   "id": "8ec6be16",
   "metadata": {},
   "outputs": [
    {
     "name": "stdout",
     "output_type": "stream",
     "text": [
      "<class 'pandas.core.frame.DataFrame'>\n",
      "RangeIndex: 330 entries, 0 to 329\n",
      "Data columns (total 11 columns):\n",
      " #   Column          Non-Null Count  Dtype  \n",
      "---  ------          --------------  -----  \n",
      " 0   _rowstate_      330 non-null    int64  \n",
      " 1   Movie           330 non-null    object \n",
      " 2   Gender          330 non-null    object \n",
      " 3   Marital_Status  328 non-null    object \n",
      " 4   Sinage          328 non-null    float64\n",
      " 5   Parking         328 non-null    float64\n",
      " 6   Clean           327 non-null    float64\n",
      " 7   Overall         328 non-null    float64\n",
      " 8   Age             328 non-null    float64\n",
      " 9   Income          314 non-null    float64\n",
      " 10  Hear_About      323 non-null    object \n",
      "dtypes: float64(6), int64(1), object(4)\n",
      "memory usage: 28.5+ KB\n"
     ]
    }
   ],
   "source": [
    "Films.info()"
   ]
  },
  {
   "cell_type": "markdown",
   "id": "f9f0c872",
   "metadata": {},
   "source": [
    "### 1) What is the overall level of customer satisfaction?\n"
   ]
  },
  {
   "cell_type": "code",
   "execution_count": 278,
   "id": "0559c185",
   "metadata": {},
   "outputs": [
    {
     "data": {
      "text/plain": [
       "1.62"
      ]
     },
     "execution_count": 278,
     "metadata": {},
     "output_type": "execute_result"
    }
   ],
   "source": [
    "round(Films.Overall.mean(),2)"
   ]
  },
  {
   "cell_type": "markdown",
   "id": "a5b81760",
   "metadata": {},
   "source": [
    "### 2) What factors are linked to satisfaction?\n"
   ]
  },
  {
   "cell_type": "code",
   "execution_count": 158,
   "id": "b0f1a59a",
   "metadata": {},
   "outputs": [],
   "source": [
    "df1=Films.loc[:,[\"Overall\",\"Sinage\",\"Parking\",\"Clean\"]]\n",
    "df1=df1.dropna()\n"
   ]
  },
  {
   "cell_type": "code",
   "execution_count": 287,
   "id": "c86eafc9",
   "metadata": {},
   "outputs": [],
   "source": [
    "obs_freq=pd.crosstab(df1[\"Overall\"],df1[\"Sinage\"])"
   ]
  },
  {
   "cell_type": "markdown",
   "id": "1f58a93a",
   "metadata": {},
   "source": [
    "###### Test if Sinage is related to Overall Satisfaction\n",
    "    h0: Sinage not related to overall\n",
    "    ha: Sinage is related to overall \n",
    "    ci= 95% pvalue=0.05"
   ]
  },
  {
   "cell_type": "code",
   "execution_count": 162,
   "id": "ea2bd2b1",
   "metadata": {},
   "outputs": [
    {
     "data": {
      "text/plain": [
       "(125.62821425534584,\n",
       " 4.513620481684684e-19,\n",
       " 16,\n",
       " array([[5.21538462e+01, 7.15384615e+01, 2.12307692e+01, 2.76923077e+00,\n",
       "         2.30769231e+00],\n",
       "        [5.49353846e+01, 7.53538462e+01, 2.23630769e+01, 2.91692308e+00,\n",
       "         2.43076923e+00],\n",
       "        [4.17230769e+00, 5.72307692e+00, 1.69846154e+00, 2.21538462e-01,\n",
       "         1.84615385e-01],\n",
       "        [3.47692308e-01, 4.76923077e-01, 1.41538462e-01, 1.84615385e-02,\n",
       "         1.53846154e-02],\n",
       "        [1.39076923e+00, 1.90769231e+00, 5.66153846e-01, 7.38461538e-02,\n",
       "         6.15384615e-02]]))"
      ]
     },
     "execution_count": 162,
     "metadata": {},
     "output_type": "execute_result"
    }
   ],
   "source": [
    "obs_freq=pd.crosstab(df1[\"Overall\"],df1[\"Sinage\"])\n",
    "stats.chi2_contingency(obs_freq)"
   ]
  },
  {
   "cell_type": "markdown",
   "id": "abaa07d0",
   "metadata": {},
   "source": [
    "    pvalue<0.05 -> We reject null Hypothesis\n",
    "#### Sinage is related to overall satisfaction"
   ]
  },
  {
   "cell_type": "code",
   "execution_count": 164,
   "id": "2f607693",
   "metadata": {},
   "outputs": [
    {
     "data": {
      "text/plain": [
       "(229.34514355577116,\n",
       " 8.69397796461986e-40,\n",
       " 16,\n",
       " array([[6.09230769e+01, 7.06153846e+01, 1.33846154e+01, 3.23076923e+00,\n",
       "         1.84615385e+00],\n",
       "        [6.41723077e+01, 7.43815385e+01, 1.40984615e+01, 3.40307692e+00,\n",
       "         1.94461538e+00],\n",
       "        [4.87384615e+00, 5.64923077e+00, 1.07076923e+00, 2.58461538e-01,\n",
       "         1.47692308e-01],\n",
       "        [4.06153846e-01, 4.70769231e-01, 8.92307692e-02, 2.15384615e-02,\n",
       "         1.23076923e-02],\n",
       "        [1.62461538e+00, 1.88307692e+00, 3.56923077e-01, 8.61538462e-02,\n",
       "         4.92307692e-02]]))"
      ]
     },
     "execution_count": 164,
     "metadata": {},
     "output_type": "execute_result"
    }
   ],
   "source": [
    "obs_freq=pd.crosstab(df1[\"Overall\"],df1[\"Parking\"])\n",
    "stats.chi2_contingency(obs_freq)"
   ]
  },
  {
   "cell_type": "markdown",
   "id": "c6310d8a",
   "metadata": {},
   "source": [
    "  pvalue<0.05 -> We reject null Hypothesis\n",
    "#### Parking is related to overall satisfaction"
   ]
  },
  {
   "cell_type": "code",
   "execution_count": 165,
   "id": "0fce8c47",
   "metadata": {},
   "outputs": [
    {
     "data": {
      "text/plain": [
       "(123.35291804371148,\n",
       " 1.2416589113321507e-18,\n",
       " 16,\n",
       " array([[6.60000000e+01, 6.96923077e+01, 1.10769231e+01, 2.30769231e+00,\n",
       "         9.23076923e-01],\n",
       "        [6.95200000e+01, 7.34092308e+01, 1.16676923e+01, 2.43076923e+00,\n",
       "         9.72307692e-01],\n",
       "        [5.28000000e+00, 5.57538462e+00, 8.86153846e-01, 1.84615385e-01,\n",
       "         7.38461538e-02],\n",
       "        [4.40000000e-01, 4.64615385e-01, 7.38461538e-02, 1.53846154e-02,\n",
       "         6.15384615e-03],\n",
       "        [1.76000000e+00, 1.85846154e+00, 2.95384615e-01, 6.15384615e-02,\n",
       "         2.46153846e-02]]))"
      ]
     },
     "execution_count": 165,
     "metadata": {},
     "output_type": "execute_result"
    }
   ],
   "source": [
    "obs_freq=pd.crosstab(df1[\"Overall\"],df1[\"Clean\"])\n",
    "stats.chi2_contingency(obs_freq)"
   ]
  },
  {
   "cell_type": "markdown",
   "id": "71da949b",
   "metadata": {},
   "source": [
    "  pvalue<0.05 -> We reject null Hypothesis\n",
    "#### Clean is related to overall satisfaction"
   ]
  },
  {
   "cell_type": "markdown",
   "id": "e28935cf",
   "metadata": {},
   "source": [
    "#### All three factors are related to overall satisfaction"
   ]
  },
  {
   "cell_type": "markdown",
   "id": "31595071",
   "metadata": {},
   "source": [
    "### 3) What is the demographic profile of Film on the Rocks patrons?"
   ]
  },
  {
   "cell_type": "markdown",
   "id": "466146ad",
   "metadata": {},
   "source": [
    "#### Demographic Profiling based on films\n",
    "    1) Gender 2) Marital_Status 3) Income 4) Age "
   ]
  },
  {
   "cell_type": "markdown",
   "id": "81fc8978",
   "metadata": {},
   "source": [
    "#### a) Gender"
   ]
  },
  {
   "cell_type": "code",
   "execution_count": 252,
   "id": "a1206e65",
   "metadata": {},
   "outputs": [
    {
     "data": {
      "text/plain": [
       "Female    213\n",
       "Male      117\n",
       "Name: Gender, dtype: int64"
      ]
     },
     "execution_count": 252,
     "metadata": {},
     "output_type": "execute_result"
    }
   ],
   "source": [
    "Films.Gender = Films.Gender.apply( lambda x : \"Male\" if(x ==\"1\") else \"Female\" if(x==\"2\") else x)\n",
    "Films.Gender.value_counts()"
   ]
  },
  {
   "cell_type": "code",
   "execution_count": 257,
   "id": "0fbc9b74",
   "metadata": {},
   "outputs": [
    {
     "data": {
      "text/plain": [
       "<AxesSubplot:xlabel='Movie'>"
      ]
     },
     "execution_count": 257,
     "metadata": {},
     "output_type": "execute_result"
    },
    {
     "data": {
      "image/png": "[encoded data removed]",
      "text/plain": [
       "<Figure size 432x288 with 1 Axes>"
      ]
     },
     "metadata": {
      "needs_background": "light"
     },
     "output_type": "display_data"
    }
   ],
   "source": [
    "pd.crosstab(index=Films[\"Movie\"],columns=Films[\"Gender\"]).plot(kind=\"bar\")"
   ]
  },
  {
   "cell_type": "markdown",
   "id": "a0ec0de2",
   "metadata": {},
   "source": [
    "##### Female are more interested in the movies"
   ]
  },
  {
   "cell_type": "markdown",
   "id": "a8cd20d2",
   "metadata": {},
   "source": [
    "#### b) Marital_Status"
   ]
  },
  {
   "cell_type": "code",
   "execution_count": 264,
   "id": "2662662e",
   "metadata": {},
   "outputs": [
    {
     "data": {
      "text/plain": [
       "Single     228\n",
       "Married    100\n",
       "Name: Marital_Status, dtype: int64"
      ]
     },
     "execution_count": 264,
     "metadata": {},
     "output_type": "execute_result"
    }
   ],
   "source": [
    "Films.Marital_Status.value_counts()\n",
    "# 1 = married; 2 = single\n",
    "Films.Marital_Status = Films.Marital_Status.apply(lambda x: \"Single\" if ((x==\"2\")|(x==\"Slngle\")) else \"Married\" if x==\"1\" else x)\n",
    "Films.Marital_Status.value_counts()"
   ]
  },
  {
   "cell_type": "code",
   "execution_count": 267,
   "id": "b3018cf2",
   "metadata": {},
   "outputs": [
    {
     "data": {
      "text/plain": [
       "<AxesSubplot:xlabel='Movie'>"
      ]
     },
     "execution_count": 267,
     "metadata": {},
     "output_type": "execute_result"
    },
    {
     "data": {
      "image/png": "[encoded data removed]",
      "text/plain": [
       "<Figure size 432x288 with 1 Axes>"
      ]
     },
     "metadata": {
      "needs_background": "light"
     },
     "output_type": "display_data"
    }
   ],
   "source": [
    "pd.crosstab(index=Films[\"Movie\"],columns=Films[\"Marital_Status\"]).plot(kind=\"bar\")\n"
   ]
  },
  {
   "cell_type": "markdown",
   "id": "02486a27",
   "metadata": {},
   "source": [
    "##### Single people are more interested in movies. Willy wonka is highly watched(Both singles and married )"
   ]
  },
  {
   "cell_type": "markdown",
   "id": "bfd741f7",
   "metadata": {},
   "source": [
    "#### 3) Income\n",
    "    1 = Less than $50,000; 2 = $50- $100,000; 3 = $100,000+"
   ]
  },
  {
   "cell_type": "code",
   "execution_count": 275,
   "id": "1191f18e",
   "metadata": {},
   "outputs": [
    {
     "data": {
      "text/plain": [
       "<AxesSubplot:xlabel='Movie'>"
      ]
     },
     "execution_count": 275,
     "metadata": {},
     "output_type": "execute_result"
    },
    {
     "data": {
      "image/png": "[encoded data removed]",
      "text/plain": [
       "<Figure size 432x288 with 1 Axes>"
      ]
     },
     "metadata": {
      "needs_background": "light"
     },
     "output_type": "display_data"
    }
   ],
   "source": [
    "#\n",
    "Films.Income.value_counts()\n",
    "pd.crosstab(index=Films[\"Movie\"],columns=Films[\"Income\"]).plot(kind=\"bar\")"
   ]
  },
  {
   "cell_type": "markdown",
   "id": "63a8207c",
   "metadata": {},
   "source": [
    "#### Income level 1 people are more to the movies"
   ]
  },
  {
   "cell_type": "markdown",
   "id": "02da67fd",
   "metadata": {},
   "source": [
    "#### 4) Age\n",
    "    1= 1-12; 2 = 13-30; 3 = 31-60; 4 = 60+"
   ]
  },
  {
   "cell_type": "code",
   "execution_count": 385,
   "id": "abf89011",
   "metadata": {},
   "outputs": [
    {
     "data": {
      "text/plain": [
       "<AxesSubplot:xlabel='Movie'>"
      ]
     },
     "execution_count": 385,
     "metadata": {},
     "output_type": "execute_result"
    },
    {
     "data": {
      "image/png": "[encoded data removed]",
      "text/plain": [
       "<Figure size 432x288 with 1 Axes>"
      ]
     },
     "metadata": {
      "needs_background": "light"
     },
     "output_type": "display_data"
    }
   ],
   "source": [
    "pd.crosstab(index=Films[\"Movie\"],columns=Films[\"Age\"]).plot(kind=\"bar\")"
   ]
  },
  {
   "cell_type": "markdown",
   "id": "38a32678",
   "metadata": {},
   "source": [
    "##### Age: 2.0 ->13-30 aged people are more to movies"
   ]
  },
  {
   "cell_type": "code",
   "execution_count": 383,
   "id": "bf202a54",
   "metadata": {},
   "outputs": [
    {
     "data": {
      "text/plain": [
       "Willy Wonka                0.487879\n",
       "Ferris Buellers Day Off    0.415152\n",
       "Old School                 0.096970\n",
       "Name: Movie, dtype: float64"
      ]
     },
     "execution_count": 383,
     "metadata": {},
     "output_type": "execute_result"
    }
   ],
   "source": [
    "Films.Movie.value_counts()/Films.Movie.notnull().sum()"
   ]
  },
  {
   "cell_type": "markdown",
   "id": "462448c0",
   "metadata": {},
   "source": [
    "##### Willy Wonka is highly watched movie followed by Ferris Buellers Day off then Old school"
   ]
  },
  {
   "cell_type": "code",
   "execution_count": 386,
   "id": "968c0a31",
   "metadata": {},
   "outputs": [],
   "source": [
    "Total_Obs =Films.Hear_About.notnull().sum()"
   ]
  },
  {
   "cell_type": "code",
   "execution_count": 387,
   "id": "e49c2216",
   "metadata": {},
   "outputs": [
    {
     "data": {
      "text/plain": [
       "323"
      ]
     },
     "execution_count": 387,
     "metadata": {},
     "output_type": "execute_result"
    }
   ],
   "source": [
    "Total_Obs"
   ]
  },
  {
   "cell_type": "markdown",
   "id": "5ab4dba9",
   "metadata": {},
   "source": [
    "### 4) In what media outlet(s) should the film series be advertised?"
   ]
  },
  {
   "cell_type": "code",
   "execution_count": 388,
   "id": "1a95c06e",
   "metadata": {},
   "outputs": [
    {
     "data": {
      "text/plain": [
       "5      69.969040\n",
       "4      12.693498\n",
       "1       6.811146\n",
       "3       4.334365\n",
       "2       3.715170\n",
       "2,5     0.619195\n",
       "3,4     0.619195\n",
       "1,5     0.309598\n",
       "5,4     0.309598\n",
       "3,5     0.309598\n",
       "4,5     0.309598\n",
       "Name: Hear_About, dtype: float64"
      ]
     },
     "execution_count": 388,
     "metadata": {},
     "output_type": "execute_result"
    }
   ],
   "source": [
    "(Films.Hear_About.value_counts()/Total_Obs) *100"
   ]
  },
  {
   "cell_type": "markdown",
   "id": "1b8eafcf",
   "metadata": {},
   "source": [
    "#### 5 = word of mouth -> 69.9% of people  and 4 = Website(Media) -> 12.7%\n",
    "\n"
   ]
  },
  {
   "cell_type": "code",
   "execution_count": null,
   "id": "169dffb5",
   "metadata": {},
   "outputs": [],
   "source": []
  }
 ],
 "metadata": {
  "kernelspec": {
   "display_name": "Python 3",
   "language": "python",
   "name": "python3"
  },
  "language_info": {
   "codemirror_mode": {
    "name": "ipython",
    "version": 3
   },
   "file_extension": ".py",
   "mimetype": "text/x-python",
   "name": "python",
   "nbconvert_exporter": "python",
   "pygments_lexer": "ipython3",
   "version": "3.8.8"
  }
 },
 "nbformat": 4,
 "nbformat_minor": 5
}
